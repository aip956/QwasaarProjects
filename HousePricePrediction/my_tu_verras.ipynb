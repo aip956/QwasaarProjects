{
 "cells": [
  {
   "cell_type": "code",
   "execution_count": null,
   "metadata": {
    "vscode": {
     "languageId": "plaintext"
    }
   },
   "outputs": [],
   "source": [
    "import pandas as pd \n",
    "import numpy as np \n",
    "import matplotlib.pyplot as plt \n",
    "import seaborn as sns \n",
    "from sklearn.linear_model import LinearRegression\n",
    "from sklearn import metrics "
   ]
  },
  {
   "cell_type": "code",
   "execution_count": null,
   "metadata": {
    "vscode": {
     "languageId": "plaintext"
    }
   },
   "outputs": [],
   "source": [
    "def load_dataset():\n",
    "    from sklearn.datasets import load_boston\n",
    "    boston = load_boston\n",
    "    return pd.DataFrame(boston.data, columns=boston.feature_names).assign(MEDV=boston.target)\n",
    "\n",
    "dataset = load_dataset \n",
    "\n"
   ]
  },
  {
   "cell_type": "code",
   "execution_count": null,
   "metadata": {
    "vscode": {
     "languageId": "plaintext"
    }
   },
   "outputs": [],
   "source": [
    "def print_summarize_dataset(dataset):\n",
    "   print(\"Dataset dimension:\", dataset.shape)\n",
    "\n",
    "   print(\"\\nFirst 10 rows of dataset:\")\n",
    "   print(dataset.head(10))\n",
    "   print(\"\\nStatistical summary:\")\n",
    "   print(dataset.describe())\n",
    "\n",
    "print_summarize_dataset(dataset)"
   ]
  },
  {
   "cell_type": "code",
   "execution_count": null,
   "metadata": {
    "vscode": {
     "languageId": "plaintext"
    }
   },
   "outputs": [],
   "source": [
    "def clean_dataset(dataset):\n",
    "    return dataset.dropna()\n",
    "\n",
    "dataset = clean_dataset(dataset)"
   ]
  },
  {
   "cell_type": "markdown",
   "metadata": {},
   "source": [
    "Generate histograms"
   ]
  },
  {
   "cell_type": "code",
   "execution_count": null,
   "metadata": {
    "vscode": {
     "languageId": "plaintext"
    }
   },
   "outputs": [],
   "source": [
    "def print_histograms(dataset):\n",
    "    dataset.hist(figsize=(12, 10), bins=20)\n",
    "    plt.tight_layout()\n",
    "    plt.show()\n",
    "\n",
    "print_histograms(dataset)"
   ]
  },
  {
   "cell_type": "markdown",
   "metadata": {},
   "source": [
    "Correlation Matrix"
   ]
  },
  {
   "cell_type": "code",
   "execution_count": null,
   "metadata": {
    "vscode": {
     "languageId": "plaintext"
    }
   },
   "outputs": [],
   "source": [
    "def compute_correlations_matrix(dataset):\n",
    "    correlations = dataset.corr()\n",
    "    return correlations.to_dict()\n",
    "\n",
    "correlations = compute_correlations_matrix(dataset)\n",
    "print(correlations['MEDV'])"
   ]
  },
  {
   "cell_type": "markdown",
   "metadata": {},
   "source": [
    "Scatter Matrix"
   ]
  },
  {
   "cell_type": "code",
   "execution_count": null,
   "metadata": {
    "vscode": {
     "languageId": "plaintext"
    }
   },
   "outputs": [],
   "source": [
    "def print_scatter_matrix(dataset):\n",
    "    pd.plotting.scatter_matrix(dataset, figsize=(15, 15), diagonal='hist')\n",
    "    plt.show()\n",
    "\n",
    "print_scatter_matrix(dataset)"
   ]
  },
  {
   "cell_type": "markdown",
   "metadata": {},
   "source": [
    "Model Training"
   ]
  },
  {
   "cell_type": "code",
   "execution_count": null,
   "metadata": {
    "vscode": {
     "languageId": "plaintext"
    }
   },
   "outputs": [],
   "source": [
    "def boston_fit_model(dataset):\n",
    "    model_dataset = dataset[[\"RM\", \"MEDV\"]]\n",
    "    x = model_dataset.iloc[:, :-1].values\n",
    "    y = model_dataset.iloc[:, 1].values\n",
    "    regressor = LinearRegression()\n",
    "    regressor.fit(x, y)\n",
    "    return regressor\n",
    "\n",
    "model = boston_fit_model(dataset)"
   ]
  }
 ],
 "metadata": {
  "language_info": {
   "name": "python"
  }
 },
 "nbformat": 4,
 "nbformat_minor": 2
}
