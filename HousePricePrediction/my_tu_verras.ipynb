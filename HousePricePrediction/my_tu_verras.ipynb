{
 "cells": [
  {
   "cell_type": "code",
   "execution_count": null,
   "metadata": {
    "vscode": {
     "languageId": "plaintext"
    }
   },
   "outputs": [],
   "source": [
    "import pandas as pd \n",
    "import numpy as np \n",
    "import matplotlib.pyplot as plt \n",
    "import seaborn as sns \n",
    "from sklearn.linear_model import LinearRegression\n",
    "from sklearn import metrics "
   ]
  },
  {
   "cell_type": "code",
   "execution_count": null,
   "metadata": {
    "vscode": {
     "languageId": "plaintext"
    }
   },
   "outputs": [],
   "source": [
    "def load_dataset():\n",
    "    from sklearn.datasets import load_boston\n",
    "    boston = load_boston\n",
    "    return pd.DataFrame(boston.data, columns=boston.feature_names).assign(MEDV=boston.target)\n",
    "\n",
    "dataset = load_dataset \n",
    "\n"
   ]
  },
  {
   "cell_type": "code",
   "execution_count": null,
   "metadata": {
    "vscode": {
     "languageId": "plaintext"
    }
   },
   "outputs": [],
   "source": [
    "def print_summarize_dataset(dataset):\n",
    "   print(\"Dataset dimension:\", dataset.shape)\n",
    "\n",
    "   print(\"\\nFirst 10 rows of dataset:\")\n",
    "   print(dataset.head(10))\n",
    "   print(\"\\nStatistical summary:\")\n",
    "   print(dataset.describe())\n",
    "\n",
    "print_summarize_dataset(dataset)"
   ]
  },
  {
   "cell_type": "code",
   "execution_count": null,
   "metadata": {
    "vscode": {
     "languageId": "plaintext"
    }
   },
   "outputs": [],
   "source": [
    "def clean_dataset(dataset):\n",
    "    return dataset.dropna()\n",
    "\n",
    "dataset = clean_dataset(dataset)"
   ]
  },
  {
   "cell_type": "markdown",
   "metadata": {},
   "source": [
    "Generate histograms"
   ]
  },
  {
   "cell_type": "code",
   "execution_count": null,
   "metadata": {
    "vscode": {
     "languageId": "plaintext"
    }
   },
   "outputs": [],
   "source": [
    "def print_histograms(dataset):\n",
    "    dataset.hist(figsize=(12, 10), bins=20)\n",
    "    plt.tight_layout()\n",
    "    plt.show()\n",
    "\n",
    "print_histograms(dataset)"
   ]
  },
  {
   "cell_type": "markdown",
   "metadata": {},
   "source": []
  }
 ],
 "metadata": {
  "language_info": {
   "name": "python"
  }
 },
 "nbformat": 4,
 "nbformat_minor": 2
}
