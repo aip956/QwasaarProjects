{
 "cells": [
  {
   "cell_type": "code",
   "execution_count": 1,
   "metadata": {},
   "outputs": [],
   "source": [
    "import pandas as pd \n",
    "import numpy as np \n",
    "import matplotlib.pyplot as plt \n",
    "import seaborn as sns \n",
    "from sklearn.linear_model import LinearRegression\n",
    "from sklearn import metrics \n",
    "\n"
   ]
  },
  {
   "cell_type": "code",
   "execution_count": null,
   "metadata": {},
   "outputs": [],
   "source": [
    "# Load CSV file\n",
    "dataset = pd.read_csv('boston.csv')\n",
    "print(dataset.head())\n",
    "print(dataset.info())\n",
    "print(dataset.describe())"
   ]
  },
  {
   "cell_type": "code",
   "execution_count": 7,
   "metadata": {},
   "outputs": [
    {
     "ename": "AttributeError",
     "evalue": "'function' object has no attribute 'shape'",
     "output_type": "error",
     "traceback": [
      "\u001b[0;31m---------------------------------------------------------------------------\u001b[0m",
      "\u001b[0;31mAttributeError\u001b[0m                            Traceback (most recent call last)",
      "Cell \u001b[0;32mIn[7], line 9\u001b[0m\n\u001b[1;32m      6\u001b[0m    \u001b[38;5;28mprint\u001b[39m(\u001b[38;5;124m\"\u001b[39m\u001b[38;5;130;01m\\n\u001b[39;00m\u001b[38;5;124mStatistical summary:\u001b[39m\u001b[38;5;124m\"\u001b[39m)\n\u001b[1;32m      7\u001b[0m    \u001b[38;5;28mprint\u001b[39m(dataset\u001b[38;5;241m.\u001b[39mdescribe())\n\u001b[0;32m----> 9\u001b[0m \u001b[43mprint_summarize_dataset\u001b[49m\u001b[43m(\u001b[49m\u001b[43mdataset\u001b[49m\u001b[43m)\u001b[49m\n",
      "Cell \u001b[0;32mIn[7], line 2\u001b[0m, in \u001b[0;36mprint_summarize_dataset\u001b[0;34m(dataset)\u001b[0m\n\u001b[1;32m      1\u001b[0m \u001b[38;5;28;01mdef\u001b[39;00m \u001b[38;5;21mprint_summarize_dataset\u001b[39m(dataset):\n\u001b[0;32m----> 2\u001b[0m    \u001b[38;5;28mprint\u001b[39m(\u001b[38;5;124m\"\u001b[39m\u001b[38;5;124mDataset dimension:\u001b[39m\u001b[38;5;124m\"\u001b[39m, \u001b[43mdataset\u001b[49m\u001b[38;5;241;43m.\u001b[39;49m\u001b[43mshape\u001b[49m)\n\u001b[1;32m      4\u001b[0m    \u001b[38;5;28mprint\u001b[39m(\u001b[38;5;124m\"\u001b[39m\u001b[38;5;130;01m\\n\u001b[39;00m\u001b[38;5;124mFirst 10 rows of dataset:\u001b[39m\u001b[38;5;124m\"\u001b[39m)\n\u001b[1;32m      5\u001b[0m    \u001b[38;5;28mprint\u001b[39m(dataset\u001b[38;5;241m.\u001b[39mhead(\u001b[38;5;241m10\u001b[39m))\n",
      "\u001b[0;31mAttributeError\u001b[0m: 'function' object has no attribute 'shape'"
     ]
    }
   ],
   "source": [
    "def print_summarize_dataset(dataset):\n",
    "   print(\"Dataset dimension:\", dataset.shape)\n",
    "\n",
    "   print(\"\\nFirst 10 rows of dataset:\")\n",
    "   print(dataset.head(10))\n",
    "   print(\"\\nStatistical summary:\")\n",
    "   print(dataset.describe())\n",
    "\n",
    "print_summarize_dataset(dataset)"
   ]
  },
  {
   "cell_type": "code",
   "execution_count": null,
   "metadata": {},
   "outputs": [],
   "source": [
    "def clean_dataset(dataset):\n",
    "    return dataset.dropna()\n",
    "\n",
    "dataset = clean_dataset(dataset)"
   ]
  },
  {
   "cell_type": "markdown",
   "metadata": {},
   "source": [
    "Generate histograms"
   ]
  },
  {
   "cell_type": "code",
   "execution_count": null,
   "metadata": {},
   "outputs": [],
   "source": [
    "def print_histograms(dataset):\n",
    "    dataset.hist(figsize=(12, 10), bins=20)\n",
    "    plt.tight_layout()\n",
    "    plt.show()\n",
    "\n",
    "print_histograms(dataset)"
   ]
  },
  {
   "cell_type": "markdown",
   "metadata": {},
   "source": [
    "Correlation Matrix"
   ]
  },
  {
   "cell_type": "code",
   "execution_count": null,
   "metadata": {},
   "outputs": [],
   "source": [
    "def compute_correlations_matrix(dataset):\n",
    "    correlations = dataset.corr()\n",
    "    return correlations.to_dict()\n",
    "\n",
    "correlations = compute_correlations_matrix(dataset)\n",
    "print(correlations['MEDV'])"
   ]
  },
  {
   "cell_type": "markdown",
   "metadata": {},
   "source": [
    "Scatter Matrix"
   ]
  },
  {
   "cell_type": "code",
   "execution_count": null,
   "metadata": {},
   "outputs": [],
   "source": [
    "def print_scatter_matrix(dataset):\n",
    "    pd.plotting.scatter_matrix(dataset, figsize=(15, 15), diagonal='hist')\n",
    "    plt.show()\n",
    "\n",
    "print_scatter_matrix(dataset)"
   ]
  },
  {
   "cell_type": "markdown",
   "metadata": {},
   "source": [
    "Model Training"
   ]
  },
  {
   "cell_type": "code",
   "execution_count": null,
   "metadata": {},
   "outputs": [],
   "source": [
    "def boston_fit_model(dataset):\n",
    "    model_dataset = dataset[[\"RM\", \"MEDV\"]]\n",
    "    x = model_dataset.iloc[:, :-1].values\n",
    "    y = model_dataset.iloc[:, 1].values\n",
    "    regressor = LinearRegression()\n",
    "    regressor.fit(x, y)\n",
    "    return regressor\n",
    "\n",
    "model = boston_fit_model(dataset)"
   ]
  },
  {
   "cell_type": "markdown",
   "metadata": {},
   "source": [
    "Prediction"
   ]
  },
  {
   "cell_type": "code",
   "execution_count": null,
   "metadata": {},
   "outputs": [],
   "source": [
    "def boston_predict(estimator, array_to_predict):\n",
    "    return estimator.predict([array_to_predict])\n",
    "\n",
    "prediction = boston_predict(model, [6])\n",
    "print(\"Prediction:\", prediction)"
   ]
  },
  {
   "cell_type": "markdown",
   "metadata": {},
   "source": [
    "Model Evaluation"
   ]
  },
  {
   "cell_type": "code",
   "execution_count": null,
   "metadata": {},
   "outputs": [],
   "source": [
    "def print_model_prediction_evaluator(base_test, prediction):\n",
    "    print(\"Mean Absolute Error:\", metrics.mean_absolute_error(base_test, prediction))\n",
    "    print(\"Mean Squared Error:\", metrics.mean_squared_error(base_test, prediction))\n",
    "    print(\"Root Mean Squared Error:\", np.sqrt(metrics.mean_squared_error(base_test, prediction)))\n",
    "\n",
    "# Example usage with dummy data\n",
    "base_test = [24, 21, 28]\n",
    "predictions = [23.5, 21.2, 28.1]\n",
    "print_model_prediction_evaluator(base_test, predictions)\n"
   ]
  }
 ],
 "metadata": {
  "kernelspec": {
   "display_name": "venv",
   "language": "python",
   "name": "python3"
  },
  "language_info": {
   "codemirror_mode": {
    "name": "ipython",
    "version": 3
   },
   "file_extension": ".py",
   "mimetype": "text/x-python",
   "name": "python",
   "nbconvert_exporter": "python",
   "pygments_lexer": "ipython3",
   "version": "3.12.8"
  }
 },
 "nbformat": 4,
 "nbformat_minor": 4
}
