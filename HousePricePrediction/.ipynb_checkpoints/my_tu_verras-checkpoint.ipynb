{
 "cells": [
  {
   "cell_type": "code",
   "execution_count": null,
   "metadata": {
    "vscode": {
     "languageId": "plaintext"
    }
   },
   "outputs": [],
   "source": [
    "def load_dataset():\n",
    "\t...\n",
    "\n",
    "boston_dataframe = load_dataset()\n",
    "\n",
    "\n"
   ]
  },
  {
   "cell_type": "code",
   "execution_count": null,
   "metadata": {
    "vscode": {
     "languageId": "plaintext"
    }
   },
   "outputs": [],
   "source": [
    "def print_summarize_dataset(dataset):\n",
    "   print(\"Dataset dimension:\")\n",
    "   print(XXXXXXXX)\n",
    "   print(\"\n",
    "First 10 rows of dataset:\")\n",
    "   print(XXXXXXXX)\n",
    "   print(\"\n",
    "Statistical summary:\")\n",
    "   print(XXXXXXXX)\n",
    "\n",
    "print_summarize_dataset(dataset)"
   ]
  }
 ],
 "metadata": {
  "language_info": {
   "name": "python"
  }
 },
 "nbformat": 4,
 "nbformat_minor": 2
}
